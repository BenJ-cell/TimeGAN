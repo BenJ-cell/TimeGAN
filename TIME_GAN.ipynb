{
  "nbformat": 4,
  "nbformat_minor": 0,
  "metadata": {
    "kernelspec": {
      "display_name": "Python 3",
      "language": "python",
      "name": "python3"
    },
    "language_info": {
      "codemirror_mode": {
        "name": "ipython",
        "version": 3
      },
      "file_extension": ".py",
      "mimetype": "text/x-python",
      "name": "python",
      "nbconvert_exporter": "python",
      "pygments_lexer": "ipython3",
      "version": "3.8.5"
    },
    "toc": {
      "base_numbering": 1,
      "nav_menu": {},
      "number_sections": true,
      "sideBar": true,
      "skip_h1_title": false,
      "title_cell": "Table of Contents",
      "title_sidebar": "Contents",
      "toc_cell": false,
      "toc_position": {},
      "toc_section_display": true,
      "toc_window_display": true
    },
    "toc-autonumbering": true,
    "colab": {
      "name": "TIME_GAN.ipynb",
      "provenance": []
    }
  },
  "cells": [
    {
      "cell_type": "markdown",
      "metadata": {
        "id": "irdFM1UhgLPp"
      },
      "source": [
        "<font size=\"+3\">Time-series Generative Adversarial Network (TimeGAN)</font>"
      ]
    },
    {
      "cell_type": "markdown",
      "metadata": {
        "id": "80jKdWMOgLP-"
      },
      "source": [
        "# Imports & Settings"
      ]
    },
    {
      "cell_type": "code",
      "metadata": {
        "ExecuteTime": {
          "end_time": "2020-06-22T14:16:41.928523Z",
          "start_time": "2020-06-22T14:16:41.926684Z"
        },
        "id": "9ib_3LYtgLQB"
      },
      "source": [
        "import warnings\n",
        "warnings.filterwarnings('ignore')"
      ],
      "execution_count": null,
      "outputs": []
    },
    {
      "cell_type": "code",
      "metadata": {
        "ExecuteTime": {
          "end_time": "2020-06-22T14:16:43.536398Z",
          "start_time": "2020-06-22T14:16:41.930419Z"
        },
        "id": "ZDQaJfcKgLQG"
      },
      "source": [
        "import pandas as pd\n",
        "import numpy as np\n",
        "from sklearn.preprocessing import MinMaxScaler\n",
        "import tensorflow as tf\n",
        "from pathlib import Path\n",
        "from tqdm import tqdm\n",
        "\n",
        "from tensorflow.keras.models import Sequential, Model\n",
        "from tensorflow.keras.layers import GRU, Dense, RNN, GRUCell, Input\n",
        "from tensorflow.keras.losses import BinaryCrossentropy, MeanSquaredError\n",
        "from tensorflow.keras.optimizers import Adam\n",
        "from tensorflow.keras.callbacks import TensorBoard\n",
        "from tensorflow.keras.utils import plot_model\n",
        "\n",
        "import matplotlib.pyplot as plt\n",
        "import seaborn as sns"
      ],
      "execution_count": null,
      "outputs": []
    },
    {
      "cell_type": "code",
      "metadata": {
        "ExecuteTime": {
          "end_time": "2020-06-22T14:16:43.563985Z",
          "start_time": "2020-06-22T14:16:43.537366Z"
        },
        "id": "P_QdMGfJgLQK",
        "colab": {
          "base_uri": "https://localhost:8080/"
        },
        "outputId": "1a3e7c3e-d0bd-4875-ec5b-4581bfb0f734"
      },
      "source": [
        "gpu_devices = tf.config.experimental.list_physical_devices('GPU')\n",
        "if gpu_devices:\n",
        "    print('Using GPU')\n",
        "    tf.config.experimental.set_memory_growth(gpu_devices[0], True)\n",
        "else:\n",
        "    print('Using CPU')"
      ],
      "execution_count": null,
      "outputs": [
        {
          "output_type": "stream",
          "name": "stdout",
          "text": [
            "Using CPU\n"
          ]
        }
      ]
    },
    {
      "cell_type": "code",
      "metadata": {
        "ExecuteTime": {
          "end_time": "2020-06-22T14:16:43.574151Z",
          "start_time": "2020-06-22T14:16:43.565253Z"
        },
        "id": "rA3XS-y5gLQO"
      },
      "source": [
        "sns.set_style('white')"
      ],
      "execution_count": null,
      "outputs": []
    },
    {
      "cell_type": "code",
      "metadata": {
        "id": "BRyItjqcgLQP"
      },
      "source": [
        "np.random.seed(42)\n",
        "tf.random.set_seed(1234)"
      ],
      "execution_count": null,
      "outputs": []
    },
    {
      "cell_type": "markdown",
      "metadata": {
        "id": "Zk6Bsh2kgLQR"
      },
      "source": [
        "## Experiment Path"
      ]
    },
    {
      "cell_type": "code",
      "metadata": {
        "ExecuteTime": {
          "end_time": "2020-06-22T14:16:43.583055Z",
          "start_time": "2020-06-22T14:16:43.575523Z"
        },
        "id": "x5QSM91BgLQT"
      },
      "source": [
        "results_path = Path('time_gan')\n",
        "if not results_path.exists():\n",
        "    results_path.mkdir()"
      ],
      "execution_count": null,
      "outputs": []
    },
    {
      "cell_type": "code",
      "metadata": {
        "ExecuteTime": {
          "end_time": "2020-06-22T14:16:43.596178Z",
          "start_time": "2020-06-22T14:16:43.585768Z"
        },
        "id": "Sv6HY1OcgLQU"
      },
      "source": [
        "experiment = 0"
      ],
      "execution_count": null,
      "outputs": []
    },
    {
      "cell_type": "code",
      "metadata": {
        "ExecuteTime": {
          "end_time": "2020-06-22T14:16:43.604235Z",
          "start_time": "2020-06-22T14:16:43.598416Z"
        },
        "id": "-leednsxgLQV"
      },
      "source": [
        "log_dir = results_path / f'experiment_{experiment:02}'\n",
        "if not log_dir.exists():\n",
        "    log_dir.mkdir(parents=True)"
      ],
      "execution_count": null,
      "outputs": []
    },
    {
      "cell_type": "code",
      "metadata": {
        "ExecuteTime": {
          "end_time": "2020-06-22T14:16:43.624581Z",
          "start_time": "2020-06-22T14:16:43.605204Z"
        },
        "id": "bQ9kEVjNgLQY"
      },
      "source": [
        "hdf_store = results_path / 'TimeSeriesGAN.h5'"
      ],
      "execution_count": null,
      "outputs": []
    },
    {
      "cell_type": "markdown",
      "metadata": {
        "id": "DHLGKjUUgLQZ"
      },
      "source": [
        "# TimeGAN Architecture and Training"
      ]
    },
    {
      "cell_type": "markdown",
      "metadata": {
        "id": "mmhRt7YagLQa"
      },
      "source": [
        "## Learning the data generation process across features and time\n",
        "A successful generative model for time-series data needs to capture both the cross-sectional distribution of features at each point in time and the longitudinal relationships among these features over time. Expressed in the image context we just discussed, the model needs to learn not only what a realistic image looks like, but also how one image evolves from the next as in a video."
      ]
    },
    {
      "cell_type": "markdown",
      "metadata": {
        "id": "pwAdAgzAgLQb"
      },
      "source": [
        "## Combining adversarial and supervised training with time-series embedding\n",
        "\n",
        "Prior attempts at generating time-series data like the recurrent (conditional) GAN relied on recurrent neural networks (RNN, see [Chapter 19, RNN for Multivariate Time Series and Sentiment Analysis](https://github.com/stefan-jansen/machine-learning-for-trading/tree/master/19_recurrent_neural_nets)) in the roles of generator and discriminator. TimeGAN explicitly incorporates the autoregressive nature of time series by combining the unsupervised adversarial loss on both real and synthetic sequences familiar from the DCGAN example with a stepwise supervised loss with respect to the original data. The goal is to reward the model for learning the distribution over transitions from one point in time to the next present in the historical data.\n",
        "\n",
        "Furthermore, TimeGAN includes an embedding network that maps the time-series features to a lower-dimensional latent space to reduce the complexity of the adversarial space. The motivation is to capture the drivers of temporal dynamics that often have lower dimensionality (see also the discussions of manifold learning in [Chapter 13](https://github.com/stefan-jansen/machine-learning-for-trading/tree/master/13_unsupervised_learning) and nonlinear dimensionality reduction in [Chapter 20](https://github.com/stefan-jansen/machine-learning-for-trading/tree/master/20_autoencoders_for_conditional_risk_factors)). \n",
        "\n",
        "A **key element** of the TimeGAN architecture is that both the generator and the embedding (or autoencoder) network are responsible for minimizing the supervised loss that measures how well the model learns the dynamic relationship. \n",
        "\n",
        "As a result, the model learns a latent space conditioned on facilitating the generator’s task to faithfully reproduce the temporal relationships observed in the historical data. In addition to time-series data, the model can also process *static* data that do not change or change less frequently over time."
      ]
    },
    {
      "cell_type": "markdown",
      "metadata": {
        "id": "KZD9EuUlgLQe"
      },
      "source": [
        "The design of the TimeGAN components follows the author's sample code."
      ]
    },
    {
      "cell_type": "markdown",
      "metadata": {
        "id": "q2o4xIkVgLQe"
      },
      "source": [
        "## The four components of the TimeGAN architecture\n",
        "The TimeGAN architecture combines an adversarial network with an autoencoder and has thus **four network components** as depicted in the below Figure:\n",
        "- **Autoencoder**: embedding and recovery networks\n",
        "- **Adversarial Network**: sequence generator and sequence discriminator components\n",
        "\n",
        "<img src=\"https://i.imgur.com/2QurkKl.png\" title=\"source: imgur.com\" width=\"600\"/>"
      ]
    },
    {
      "cell_type": "markdown",
      "metadata": {
        "id": "8EPg7qhFgLQf"
      },
      "source": [
        "The **embedding and recovery components** of the autoencoder map the feature space into the latent space and vice versa to facilitate the learning of the temporal dynamics by the adversarial network learns in a lower-dimensional space. The authors implement the embedding and recovery network using a stacked RNN and a feedforward network. However, these choices can be flexibly adapted to the task at hand as long as they are autoregressive and respect the temporal order of the data."
      ]
    },
    {
      "cell_type": "markdown",
      "metadata": {
        "id": "TK8J2ScbgLQg"
      },
      "source": [
        "The **generator and discriminator elements** of the adversarial network differ from the DCGAN not only because they operate on sequential data but also because the synthetic features are generated in the latent space that the model learns simultaneously. The authors choose an RNN as generator and a bidirectional RNN with a feedforward output layer for the discriminator."
      ]
    },
    {
      "cell_type": "markdown",
      "metadata": {
        "id": "_x_GlEz5gLQg"
      },
      "source": [
        "## Joint training of autoencoder and adversarial network\n",
        "The three loss functions displayed in the Figure above drive the joint optimization of the network elements just described while training on real and randomly generated time series. In more detail, they aim to accomplish the following:\n",
        "- The **reconstruction loss** is familiar from our discussion of autoencoders in [Chapter 20](https://github.com/stefan-jansen/machine-learning-for-trading/tree/master/20_autoencoders_for_conditional_risk_factors); it compares how well the reconstruction of the encoded data resembles the original. \n",
        "- The **unsupervised loss** reflects the competitive interaction between the generator and the discriminator described in the [DCGAN](https://github.com/stefan-jansen/machine-learning-for-trading/blob/master/21_gans_for_synthetic_time_series/01_deep_convolutional_generative_adversarial_network.ipynb) example; while the generator aims to minimize the probability that the discriminator classifies its output as fake, the discriminator aims to optimize the correct classification or real and fake inputs.\n",
        "- The **supervised loss** captures how well the generator approximates the actual next time step in latent space when receiving encoded real data for the prior sequence.\n",
        "\n",
        "As a result of the joint training, TimeGAN simultaneously learns to encode features, generate representations, and iterate across time. More specifically, the embedding network creates the latent space, the adversarial network operates within this space, and supervised loss synchronizes the latent dynamics of both real and synthetic data."
      ]
    },
    {
      "cell_type": "markdown",
      "metadata": {
        "id": "9Z5tsESqgLQi"
      },
      "source": [
        "## Training in three phases\n",
        "\n",
        "Training proceeds along the following three phases:\n",
        "1. Train the autoencoder on real time series to optimize reconstruction\n",
        "2. Optimize the supervised loss using real time series to capture the temporal dynamics of the historical data\n",
        "3. Jointly train the four components while minimizing all three loss functions\n",
        "\n",
        "TimeGAN includes several hyperparameters used to weigh the components of composite loss functions; however, the authors find the network to be less sensitive to these settings than one might expect given the notorious difficulties of GAN training. In fact, they do not discover significant challenges during training and suggest that the embedding task serves to regularize adversarial learning because it reduces its dimensionality while the supervised loss constrains the stepwise dynamics of the generator.\n",
        "\n",
        "## TimeGAN with TensorFlow 2\n",
        "\n",
        "We now turn to the TimeGAN implementation using TensorFlow 2; see the paper for an in-depth explanation of the math and methodology of the approach.\n",
        "\n",
        "In the next sections, we'll implement the TimeGAN architecture just described. The authors provide sample code using TensorFlow 1 that we port to TensorFlow 2. Building and training TimeGAN requires several steps:\n",
        "1. Selecting and preparing real and random time series inputs\n",
        "2. Creating the key TimeGAN model components\n",
        "3. Defining the various loss functions and train steps used during the three training phases\n",
        "4. Running the training loops and logging the results\n",
        "5. Generating synthetic time series and evaluating the results\n",
        "\n",
        "We’ll walk through the key items for each of these steps; please refer to the notebook TimeGAN_TF2 for the code examples in this section (unless otherwise noted) as well as additional implementation details."
      ]
    },
    {
      "cell_type": "markdown",
      "metadata": {
        "id": "RcXUjpsugLQj"
      },
      "source": [
        "# Prepare Data"
      ]
    },
    {
      "cell_type": "markdown",
      "metadata": {
        "id": "wYfT5cvtgLQj"
      },
      "source": [
        "The authors demonstrate the applicability of TimeGAN to financial data using 15 years of daily Google stock prices downloaded from Yahoo Finance with six features, namely open, high, low, close and adjusted close price, and volume. We’ll use instead close to 20 years of adjusted close prices for six different tickers because it introduces somewhat higher variability. We follow the original paper in targeting synthetic series with 24 time steps. "
      ]
    },
    {
      "cell_type": "code",
      "metadata": {
        "colab": {
          "base_uri": "https://localhost:8080/"
        },
        "id": "BjbdcmU2gLQk",
        "outputId": "e43b31f2-6b8c-4a79-cea9-1fe348e5d3fa"
      },
      "source": [
        "df = pd.read_csv('data_HackGen_M2DS.csv')\n",
        "df.info()\n",
        "df = df.drop(df.columns[0], axis=1) # df.columns is zero-based pd.Index "
      ],
      "execution_count": null,
      "outputs": [
        {
          "output_type": "stream",
          "name": "stdout",
          "text": [
            "<class 'pandas.core.frame.DataFrame'>\n",
            "RangeIndex: 1189 entries, 0 to 1188\n",
            "Data columns (total 5 columns):\n",
            " #   Column              Non-Null Count  Dtype  \n",
            "---  ------              --------------  -----  \n",
            " 0   0                   1189 non-null   int64  \n",
            " 1   0.0109571007470021  1189 non-null   float64\n",
            " 2   0.0262889222757607  1189 non-null   float64\n",
            " 3   0.0318672389106398  1189 non-null   float64\n",
            " 4   0.0241059707528865  1189 non-null   float64\n",
            "dtypes: float64(4), int64(1)\n",
            "memory usage: 46.6 KB\n"
          ]
        }
      ]
    },
    {
      "cell_type": "code",
      "metadata": {
        "colab": {
          "base_uri": "https://localhost:8080/",
          "height": 206
        },
        "id": "zg9vx5zoibKz",
        "outputId": "4f4a7596-38e1-4368-fdb9-32c413a4c328"
      },
      "source": [
        "df.head()"
      ],
      "execution_count": null,
      "outputs": [
        {
          "output_type": "execute_result",
          "data": {
            "text/html": [
              "<div>\n",
              "<style scoped>\n",
              "    .dataframe tbody tr th:only-of-type {\n",
              "        vertical-align: middle;\n",
              "    }\n",
              "\n",
              "    .dataframe tbody tr th {\n",
              "        vertical-align: top;\n",
              "    }\n",
              "\n",
              "    .dataframe thead th {\n",
              "        text-align: right;\n",
              "    }\n",
              "</style>\n",
              "<table border=\"1\" class=\"dataframe\">\n",
              "  <thead>\n",
              "    <tr style=\"text-align: right;\">\n",
              "      <th></th>\n",
              "      <th>0.0109571007470021</th>\n",
              "      <th>0.0262889222757607</th>\n",
              "      <th>0.0318672389106398</th>\n",
              "      <th>0.0241059707528865</th>\n",
              "    </tr>\n",
              "  </thead>\n",
              "  <tbody>\n",
              "    <tr>\n",
              "      <th>0</th>\n",
              "      <td>0.013393</td>\n",
              "      <td>0.019890</td>\n",
              "      <td>0.001832</td>\n",
              "      <td>0.007931</td>\n",
              "    </tr>\n",
              "    <tr>\n",
              "      <th>1</th>\n",
              "      <td>0.028426</td>\n",
              "      <td>0.013351</td>\n",
              "      <td>0.008690</td>\n",
              "      <td>0.021609</td>\n",
              "    </tr>\n",
              "    <tr>\n",
              "      <th>2</th>\n",
              "      <td>0.015443</td>\n",
              "      <td>0.051812</td>\n",
              "      <td>0.004600</td>\n",
              "      <td>0.035438</td>\n",
              "    </tr>\n",
              "    <tr>\n",
              "      <th>3</th>\n",
              "      <td>0.008883</td>\n",
              "      <td>0.008022</td>\n",
              "      <td>0.008646</td>\n",
              "      <td>0.007616</td>\n",
              "    </tr>\n",
              "    <tr>\n",
              "      <th>4</th>\n",
              "      <td>0.008150</td>\n",
              "      <td>0.000124</td>\n",
              "      <td>0.010214</td>\n",
              "      <td>0.003199</td>\n",
              "    </tr>\n",
              "  </tbody>\n",
              "</table>\n",
              "</div>"
            ],
            "text/plain": [
              "   0.0109571007470021  ...  0.0241059707528865\n",
              "0            0.013393  ...            0.007931\n",
              "1            0.028426  ...            0.021609\n",
              "2            0.015443  ...            0.035438\n",
              "3            0.008883  ...            0.007616\n",
              "4            0.008150  ...            0.003199\n",
              "\n",
              "[5 rows x 4 columns]"
            ]
          },
          "metadata": {},
          "execution_count": 21
        }
      ]
    },
    {
      "cell_type": "markdown",
      "metadata": {
        "id": "0rGWhu2UgLQl"
      },
      "source": [
        "## Parameters"
      ]
    },
    {
      "cell_type": "code",
      "metadata": {
        "ExecuteTime": {
          "end_time": "2020-06-22T14:16:43.640257Z",
          "start_time": "2020-06-22T14:16:43.625482Z"
        },
        "id": "XadPSQozgLQl"
      },
      "source": [
        "seq_len = 24\n",
        "n_seq = 5\n",
        "batch_size = 128"
      ],
      "execution_count": null,
      "outputs": []
    },
    {
      "cell_type": "code",
      "metadata": {
        "ExecuteTime": {
          "end_time": "2020-06-22T14:16:43.653909Z",
          "start_time": "2020-06-22T14:16:43.641409Z"
        },
        "id": "ANFa04WigLQl"
      },
      "source": [
        "tickers = ['First Variable', 'Second Variable', 'Third Variable', 'Fourth Variable']"
      ],
      "execution_count": null,
      "outputs": []
    },
    {
      "cell_type": "markdown",
      "metadata": {
        "id": "43hgh_jKgLQm"
      },
      "source": [
        "## Plot Series"
      ]
    },
    {
      "cell_type": "code",
      "metadata": {
        "ExecuteTime": {
          "end_time": "2020-06-22T14:16:50.655004Z",
          "start_time": "2020-06-22T14:16:48.811967Z"
        },
        "colab": {
          "base_uri": "https://localhost:8080/",
          "height": 319
        },
        "id": "P84T_omfgLQn",
        "outputId": "ecbb922c-5475-438c-85e7-c759c475fc17"
      },
      "source": [
        "axes = df.div(df.iloc[0]).plot(subplots=True,\n",
        "                               figsize=(14, 6),\n",
        "                               layout=(3, 2),\n",
        "                               title=tickers,\n",
        "                               legend=False,\n",
        "                               rot=0,\n",
        "                               lw=1, \n",
        "                               color='k')\n",
        "for ax in axes.flatten():\n",
        "    ax.set_xlabel('')\n",
        "\n",
        "plt.suptitle('Normalized Price Series')\n",
        "plt.gcf().tight_layout()\n",
        "sns.despine();"
      ],
      "execution_count": null,
      "outputs": [
        {
          "output_type": "display_data",
          "data": {
            "image/png": "[encoded data removed]",
            "text/plain": [
              "<Figure size 1008x432 with 6 Axes>"
            ]
          },
          "metadata": {}
        }
      ]
    },
    {
      "cell_type": "code",
      "metadata": {
        "colab": {
          "base_uri": "https://localhost:8080/",
          "height": 300
        },
        "id": "nsEVQmUjGWs_",
        "outputId": "fc81ca34-82b2-411b-ec57-7169d726062b"
      },
      "source": [
        "display(df.describe())"
      ],
      "execution_count": null,
      "outputs": [
        {
          "output_type": "display_data",
          "data": {
            "text/html": [
              "<div>\n",
              "<style scoped>\n",
              "    .dataframe tbody tr th:only-of-type {\n",
              "        vertical-align: middle;\n",
              "    }\n",
              "\n",
              "    .dataframe tbody tr th {\n",
              "        vertical-align: top;\n",
              "    }\n",
              "\n",
              "    .dataframe thead th {\n",
              "        text-align: right;\n",
              "    }\n",
              "</style>\n",
              "<table border=\"1\" class=\"dataframe\">\n",
              "  <thead>\n",
              "    <tr style=\"text-align: right;\">\n",
              "      <th></th>\n",
              "      <th>0.0109571007470021</th>\n",
              "      <th>0.0262889222757607</th>\n",
              "      <th>0.0318672389106398</th>\n",
              "      <th>0.0241059707528865</th>\n",
              "    </tr>\n",
              "  </thead>\n",
              "  <tbody>\n",
              "    <tr>\n",
              "      <th>count</th>\n",
              "      <td>1189.000000</td>\n",
              "      <td>1189.000000</td>\n",
              "      <td>1189.000000</td>\n",
              "      <td>1189.000000</td>\n",
              "    </tr>\n",
              "    <tr>\n",
              "      <th>mean</th>\n",
              "      <td>0.012445</td>\n",
              "      <td>0.010763</td>\n",
              "      <td>0.012996</td>\n",
              "      <td>0.012018</td>\n",
              "    </tr>\n",
              "    <tr>\n",
              "      <th>std</th>\n",
              "      <td>0.011884</td>\n",
              "      <td>0.011954</td>\n",
              "      <td>0.013113</td>\n",
              "      <td>0.010779</td>\n",
              "    </tr>\n",
              "    <tr>\n",
              "      <th>min</th>\n",
              "      <td>0.000003</td>\n",
              "      <td>0.000005</td>\n",
              "      <td>0.000031</td>\n",
              "      <td>0.000007</td>\n",
              "    </tr>\n",
              "    <tr>\n",
              "      <th>25%</th>\n",
              "      <td>0.004549</td>\n",
              "      <td>0.003012</td>\n",
              "      <td>0.004640</td>\n",
              "      <td>0.004910</td>\n",
              "    </tr>\n",
              "    <tr>\n",
              "      <th>50%</th>\n",
              "      <td>0.008950</td>\n",
              "      <td>0.007523</td>\n",
              "      <td>0.009546</td>\n",
              "      <td>0.009359</td>\n",
              "    </tr>\n",
              "    <tr>\n",
              "      <th>75%</th>\n",
              "      <td>0.016896</td>\n",
              "      <td>0.014569</td>\n",
              "      <td>0.016660</td>\n",
              "      <td>0.015596</td>\n",
              "    </tr>\n",
              "    <tr>\n",
              "      <th>max</th>\n",
              "      <td>0.153275</td>\n",
              "      <td>0.138418</td>\n",
              "      <td>0.098320</td>\n",
              "      <td>0.101339</td>\n",
              "    </tr>\n",
              "  </tbody>\n",
              "</table>\n",
              "</div>"
            ],
            "text/plain": [
              "       0.0109571007470021  ...  0.0241059707528865\n",
              "count         1189.000000  ...         1189.000000\n",
              "mean             0.012445  ...            0.012018\n",
              "std              0.011884  ...            0.010779\n",
              "min              0.000003  ...            0.000007\n",
              "25%              0.004549  ...            0.004910\n",
              "50%              0.008950  ...            0.009359\n",
              "75%              0.016896  ...            0.015596\n",
              "max              0.153275  ...            0.101339\n",
              "\n",
              "[8 rows x 4 columns]"
            ]
          },
          "metadata": {}
        }
      ]
    },
    {
      "cell_type": "markdown",
      "metadata": {
        "id": "IEVxI6D_gLQo"
      },
      "source": [
        "## Correlation"
      ]
    },
    {
      "cell_type": "code",
      "metadata": {
        "ExecuteTime": {
          "end_time": "2020-06-22T14:16:51.104425Z",
          "start_time": "2020-06-22T14:16:50.656239Z"
        },
        "colab": {
          "base_uri": "https://localhost:8080/",
          "height": 730
        },
        "id": "pZqr2WHhgLQp",
        "outputId": "bd672eba-1664-45ec-e164-5ceda52919c7"
      },
      "source": [
        "sns.clustermap(df.corr(),annot=True,fmt='.2f',cmap=sns.diverging_palette(h_neg=20,h_pos=220), center=0);"
      ],
      "execution_count": null,
      "outputs": [
        {
          "output_type": "display_data",
          "data": {
            "image/png": "[encoded data removed]",
            "text/plain": [
              "<Figure size 720x720 with 4 Axes>"
            ]
          },
          "metadata": {}
        }
      ]
    },
    {
      "cell_type": "markdown",
      "metadata": {
        "id": "5E5Lz2NhgLQp"
      },
      "source": [
        "## Normalize Data"
      ]
    },
    {
      "cell_type": "markdown",
      "metadata": {
        "id": "ffOZmkXUgLQq"
      },
      "source": [
        "We scale each series to the range [0, 1] using scikit-learn’s `MinMaxScaler` that we later use to rescale the synthetic data."
      ]
    },
    {
      "cell_type": "code",
      "metadata": {
        "ExecuteTime": {
          "end_time": "2020-06-22T14:16:51.112479Z",
          "start_time": "2020-06-22T14:16:51.106154Z"
        },
        "id": "UaCD2yVfgLQq"
      },
      "source": [
        "scaler = MinMaxScaler()\n",
        "scaled_data = scaler.fit_transform(df).astype(np.float32)"
      ],
      "execution_count": null,
      "outputs": []
    },
    {
      "cell_type": "markdown",
      "metadata": {
        "id": "-77gQBGkgLQr"
      },
      "source": [
        "## Create rolling window sequences"
      ]
    },
    {
      "cell_type": "markdown",
      "metadata": {
        "id": "_-vEDjCIgLQr"
      },
      "source": [
        "In the next step, we create rolling windows containing overlapping sequences of 24 consecutive data points for the four series:"
      ]
    },
    {
      "cell_type": "code",
      "metadata": {
        "ExecuteTime": {
          "end_time": "2020-06-22T14:16:51.124689Z",
          "start_time": "2020-06-22T14:16:51.114092Z"
        },
        "id": "93n7xXsUgLQs"
      },
      "source": [
        "data = []\n",
        "for i in range(len(df) - seq_len):\n",
        "    data.append(scaled_data[i:i + seq_len])\n",
        "\n",
        "n_windows = len(data)"
      ],
      "execution_count": null,
      "outputs": []
    },
    {
      "cell_type": "markdown",
      "metadata": {
        "id": "ryF1-Z4dgLQs"
      },
      "source": [
        "## Create tf.data.Dataset"
      ]
    },
    {
      "cell_type": "code",
      "metadata": {
        "ExecuteTime": {
          "end_time": "2020-06-22T14:16:51.460479Z",
          "start_time": "2020-06-22T14:16:51.127466Z"
        },
        "id": "ZEgQuxS8gLQt"
      },
      "source": [
        "real_series = (tf.data.Dataset\n",
        "               .from_tensor_slices(data)\n",
        "               .shuffle(buffer_size=n_windows)\n",
        "               .batch(batch_size))\n",
        "real_series_iter = iter(real_series.repeat())"
      ],
      "execution_count": null,
      "outputs": []
    },
    {
      "cell_type": "markdown",
      "metadata": {
        "id": "5ST4X2M3gLQu"
      },
      "source": [
        "## Set up random series generator"
      ]
    },
    {
      "cell_type": "markdown",
      "metadata": {
        "id": "KMskPoX2gLQu"
      },
      "source": [
        "We also need a random time series generator that produces simulated data with 24 observations on the six series as long as the training continues.\n",
        "\n",
        "To this end, we create a generator that draws the requisite data uniform at random and feed the result into a second `tf.data.Dataset`. We set this `Dataset` to produce batches of the desired size and to repeat the process as long as necessary:"
      ]
    },
    {
      "cell_type": "code",
      "metadata": {
        "ExecuteTime": {
          "end_time": "2020-06-22T14:16:51.465137Z",
          "start_time": "2020-06-22T14:16:51.462655Z"
        },
        "id": "jxZ2npyIgLQv"
      },
      "source": [
        "def make_random_data():\n",
        "    while True:\n",
        "        yield np.random.uniform(low=0, high=1, size=(seq_len, n_seq))"
      ],
      "execution_count": null,
      "outputs": []
    },
    {
      "cell_type": "markdown",
      "metadata": {
        "id": "z3TmZx1ngLQw"
      },
      "source": [
        "We use the Python generator to feed a `tf.data.Dataset` that continues to call the random number generator as long as necessary and produces the desired batch size."
      ]
    },
    {
      "cell_type": "code",
      "metadata": {
        "ExecuteTime": {
          "end_time": "2020-06-22T14:16:51.501020Z",
          "start_time": "2020-06-22T14:16:51.466315Z"
        },
        "id": "UTLTksZMgLQx"
      },
      "source": [
        "random_series = iter(tf.data.Dataset\n",
        "                     .from_generator(make_random_data, output_types=tf.float32)\n",
        "                     .batch(batch_size)\n",
        "                     .repeat())"
      ],
      "execution_count": null,
      "outputs": []
    },
    {
      "cell_type": "markdown",
      "metadata": {
        "id": "4Jhv6kFegLQy"
      },
      "source": [
        "# TimeGAN Setup"
      ]
    },
    {
      "cell_type": "markdown",
      "metadata": {
        "id": "eNYr_ql4gLQy"
      },
      "source": [
        "We’ll now create the two autoencoder components and the two adversarial network elements, as well as the supervisor that encourages the generator to learn the temporal dynamic of the historical price series."
      ]
    },
    {
      "cell_type": "markdown",
      "metadata": {
        "id": "zx6BTkv9gLQz"
      },
      "source": [
        "##  Network Parameters"
      ]
    },
    {
      "cell_type": "markdown",
      "metadata": {
        "id": "1msOPtP_gLQ0"
      },
      "source": [
        "We follow the authors’ sample code in creating RNNs with three hidden layers with 24 GRU units each, except for the supervisor that only uses two hidden layers."
      ]
    },
    {
      "cell_type": "code",
      "metadata": {
        "ExecuteTime": {
          "end_time": "2020-06-22T14:16:51.504888Z",
          "start_time": "2020-06-22T14:16:51.502406Z"
        },
        "id": "eIwXM_zEgLQ1"
      },
      "source": [
        "hidden_dim = 24\n",
        "num_layers = 4"
      ],
      "execution_count": null,
      "outputs": []
    },
    {
      "cell_type": "markdown",
      "metadata": {
        "ExecuteTime": {
          "end_time": "2020-06-11T21:00:46.029497Z",
          "start_time": "2020-06-11T21:00:46.027650Z"
        },
        "id": "qHoO9s8_gLQ3"
      },
      "source": [
        "## Set up logger"
      ]
    },
    {
      "cell_type": "code",
      "metadata": {
        "ExecuteTime": {
          "end_time": "2020-06-22T14:16:51.514147Z",
          "start_time": "2020-06-22T14:16:51.506392Z"
        },
        "id": "qpWEsgwIgLQ4"
      },
      "source": [
        "writer = tf.summary.create_file_writer(log_dir.as_posix())"
      ],
      "execution_count": null,
      "outputs": []
    },
    {
      "cell_type": "markdown",
      "metadata": {
        "ExecuteTime": {
          "end_time": "2020-06-11T21:01:03.536533Z",
          "start_time": "2020-06-11T21:01:03.534324Z"
        },
        "id": "VSS6oRHBgLQ5"
      },
      "source": [
        "## Input place holders"
      ]
    },
    {
      "cell_type": "code",
      "metadata": {
        "ExecuteTime": {
          "end_time": "2020-06-22T14:16:51.539209Z",
          "start_time": "2020-06-22T14:16:51.515706Z"
        },
        "id": "MoEhxczygLQ5"
      },
      "source": [
        "X = Input(shape=[seq_len, n_seq], name='RealData')\n",
        "Z = Input(shape=[seq_len, n_seq], name='RandomData')"
      ],
      "execution_count": null,
      "outputs": []
    },
    {
      "cell_type": "markdown",
      "metadata": {
        "id": "bdj8mv9OgLQ6"
      },
      "source": [
        "## RNN block generator"
      ]
    },
    {
      "cell_type": "markdown",
      "metadata": {
        "id": "T5lAPuL3gLQ6"
      },
      "source": [
        "We keep it simple and use a very similar architecture for all four components. For a real-world application, they should be tailored to the data."
      ]
    },
    {
      "cell_type": "markdown",
      "metadata": {
        "id": "KJq9RqY_gLQ6"
      },
      "source": [
        "The following `make_rnn` function automates the network creation:"
      ]
    },
    {
      "cell_type": "code",
      "metadata": {
        "ExecuteTime": {
          "end_time": "2020-06-22T14:16:51.547728Z",
          "start_time": "2020-06-22T14:16:51.542460Z"
        },
        "id": "_tRbLkI7gLQ6"
      },
      "source": [
        "def make_rnn(n_layers, hidden_units, output_units, name):\n",
        "    return Sequential([GRU(units=hidden_units,\n",
        "                           return_sequences=True,\n",
        "                           name=f'GRU_{i + 1}') for i in range(n_layers)] +\n",
        "                      [Dense(units=output_units,\n",
        "                             activation='sigmoid',\n",
        "                             name='OUT')], name=name)"
      ],
      "execution_count": null,
      "outputs": []
    },
    {
      "cell_type": "markdown",
      "metadata": {
        "id": "FgZf8RR3gLQ7"
      },
      "source": [
        "## Embedder & Recovery"
      ]
    },
    {
      "cell_type": "markdown",
      "metadata": {
        "id": "WG4F88tggLQ7"
      },
      "source": [
        "The autoencoder consists of the embedder and the recovery networks that we instantiate here:"
      ]
    },
    {
      "cell_type": "code",
      "metadata": {
        "ExecuteTime": {
          "end_time": "2020-06-22T14:16:51.594039Z",
          "start_time": "2020-06-22T14:16:51.549914Z"
        },
        "id": "Svyo9ca0gLQ7"
      },
      "source": [
        "embedder = make_rnn(n_layers=3, \n",
        "                    hidden_units=hidden_dim, \n",
        "                    output_units=hidden_dim, \n",
        "                    name='Embedder')\n",
        "recovery = make_rnn(n_layers=3, \n",
        "                    hidden_units=hidden_dim, \n",
        "                    output_units=n_seq, \n",
        "                    name='Recovery')"
      ],
      "execution_count": null,
      "outputs": []
    },
    {
      "cell_type": "markdown",
      "metadata": {
        "ExecuteTime": {
          "end_time": "2020-06-11T21:02:03.263130Z",
          "start_time": "2020-06-11T21:02:03.260572Z"
        },
        "id": "4ovkIzyegLQ8"
      },
      "source": [
        "## Generator & Discriminator"
      ]
    },
    {
      "cell_type": "markdown",
      "metadata": {
        "ExecuteTime": {
          "end_time": "2020-11-18T15:45:29.621203Z",
          "start_time": "2020-11-18T15:45:29.618574Z"
        },
        "id": "OA28OKI-gLQ8"
      },
      "source": [
        "We then create the generator, the discriminator, and the supervisor like so:"
      ]
    },
    {
      "cell_type": "code",
      "metadata": {
        "ExecuteTime": {
          "end_time": "2020-06-22T14:16:51.646017Z",
          "start_time": "2020-06-22T14:16:51.595598Z"
        },
        "id": "SCWO3h9rgLQ8"
      },
      "source": [
        "generator = make_rnn(n_layers=3, \n",
        "                     hidden_units=hidden_dim, \n",
        "                     output_units=hidden_dim, \n",
        "                     name='Generator')\n",
        "discriminator = make_rnn(n_layers=3, \n",
        "                         hidden_units=hidden_dim, \n",
        "                         output_units=1, \n",
        "                         name='Discriminator')\n",
        "supervisor = make_rnn(n_layers=2, \n",
        "                      hidden_units=hidden_dim, \n",
        "                      output_units=hidden_dim, \n",
        "                      name='Supervisor')"
      ],
      "execution_count": null,
      "outputs": []
    },
    {
      "cell_type": "markdown",
      "metadata": {
        "id": "Zko20JWHgLQ9"
      },
      "source": [
        "# TimeGAN Training"
      ]
    },
    {
      "cell_type": "markdown",
      "metadata": {
        "id": "cJFM7HXXgLQ9"
      },
      "source": [
        "## Settings"
      ]
    },
    {
      "cell_type": "code",
      "metadata": {
        "ExecuteTime": {
          "end_time": "2020-06-22T14:16:51.654925Z",
          "start_time": "2020-06-22T14:16:51.647411Z"
        },
        "id": "EAeo6vKngLQ9"
      },
      "source": [
        "train_steps = 10000\n",
        "gamma = 1"
      ],
      "execution_count": null,
      "outputs": []
    },
    {
      "cell_type": "markdown",
      "metadata": {
        "id": "tFbqGAp_gLQ-"
      },
      "source": [
        "## Generic Loss Functions"
      ]
    },
    {
      "cell_type": "markdown",
      "metadata": {
        "id": "j06EvYItgLQ_"
      },
      "source": [
        "We also define two generic loss functions, namely `MeanSquaredError` and `BinaryCrossEntropy` that we will use later to create the various specific loss functions during the three phases:"
      ]
    },
    {
      "cell_type": "code",
      "metadata": {
        "ExecuteTime": {
          "end_time": "2020-06-22T14:16:51.668710Z",
          "start_time": "2020-06-22T14:16:51.656698Z"
        },
        "id": "OG3aD9c7gLRA"
      },
      "source": [
        "mse = MeanSquaredError()\n",
        "bce = BinaryCrossentropy()"
      ],
      "execution_count": null,
      "outputs": []
    },
    {
      "cell_type": "markdown",
      "metadata": {
        "id": "L0r26VDagLRB"
      },
      "source": [
        "# Phase 1: Autoencoder Training"
      ]
    },
    {
      "cell_type": "markdown",
      "metadata": {
        "id": "ERp1rSeegLRB"
      },
      "source": [
        "## Architecture"
      ]
    },
    {
      "cell_type": "markdown",
      "metadata": {
        "id": "sKCZFWtlgLRB"
      },
      "source": [
        "The autoencoder integrates the embedder and the recovery functions:"
      ]
    },
    {
      "cell_type": "code",
      "metadata": {
        "ExecuteTime": {
          "end_time": "2020-06-22T14:16:53.289403Z",
          "start_time": "2020-06-22T14:16:51.670765Z"
        },
        "colab": {
          "base_uri": "https://localhost:8080/"
        },
        "id": "hFK3mGIvgLRC",
        "outputId": "49ec2875-c6a8-4cb5-c230-584e5df65a6f"
      },
      "source": [
        "H = embedder(X)\n",
        "X_tilde = recovery(H)\n",
        "\n",
        "tf.shape(X_tilde)"
      ],
      "execution_count": null,
      "outputs": [
        {
          "output_type": "execute_result",
          "data": {
            "text/plain": [
              "<KerasTensor: shape=(3,) dtype=int32 inferred_value=[None, 24, 5] (created by layer 'tf.compat.v1.shape_1')>"
            ]
          },
          "metadata": {},
          "execution_count": 55
        }
      ]
    },
    {
      "cell_type": "code",
      "metadata": {
        "id": "WTsscQNFmg9R"
      },
      "source": [
        "autoencoder = Model(inputs=X,outputs=X_tilde,name='Autoencoder')"
      ],
      "execution_count": null,
      "outputs": []
    },
    {
      "cell_type": "code",
      "metadata": {
        "ExecuteTime": {
          "end_time": "2020-06-22T14:16:53.294438Z",
          "start_time": "2020-06-22T14:16:53.290299Z"
        },
        "colab": {
          "base_uri": "https://localhost:8080/"
        },
        "id": "W6pmaMWBgLRC",
        "outputId": "57496e14-5a77-4acc-f04b-b008e466f6b6"
      },
      "source": [
        "autoencoder.summary()"
      ],
      "execution_count": null,
      "outputs": [
        {
          "output_type": "stream",
          "name": "stdout",
          "text": [
            "Model: \"Autoencoder\"\n",
            "_________________________________________________________________\n",
            " Layer (type)                Output Shape              Param #   \n",
            "=================================================================\n",
            " RealData (InputLayer)       [(None, 24, 5)]           0         \n",
            "                                                                 \n",
            " Embedder (Sequential)       (None, 24, 24)            10032     \n",
            "                                                                 \n",
            " Recovery (Sequential)       (None, 24, 5)             10925     \n",
            "                                                                 \n",
            "=================================================================\n",
            "Total params: 20,957\n",
            "Trainable params: 20,957\n",
            "Non-trainable params: 0\n",
            "_________________________________________________________________\n"
          ]
        }
      ]
    },
    {
      "cell_type": "code",
      "metadata": {
        "ExecuteTime": {
          "end_time": "2020-06-22T14:16:53.441359Z",
          "start_time": "2020-06-22T14:16:53.296275Z"
        },
        "colab": {
          "base_uri": "https://localhost:8080/",
          "height": 312
        },
        "id": "HbtWG0lbgLRD",
        "outputId": "6d6cb58f-423a-46ec-8b82-914208ead04d"
      },
      "source": [
        "plot_model(autoencoder,\n",
        "           to_file=(results_path / 'autoencoder.png').as_posix(),\n",
        "           show_shapes=True)"
      ],
      "execution_count": null,
      "outputs": [
        {
          "output_type": "execute_result",
          "data": {
            "image/png": "[encoded data removed]",
            "text/plain": [
              "<IPython.core.display.Image object>"
            ]
          },
          "metadata": {},
          "execution_count": 58
        }
      ]
    },
    {
      "cell_type": "markdown",
      "metadata": {
        "id": "TR3EQT6agLRD"
      },
      "source": [
        "We next instantiate the optimizer for this training phase and define the training step. It follows the pattern introduced with the DCGAN example, using tf.GradientTape to record the operations that generate the reconstruction loss. This allows us to rely on the automatic differentiation engine to obtain the gradients with respect to the trainable embedder and recovery network weights that drive backpropagation:"
      ]
    },
    {
      "cell_type": "markdown",
      "metadata": {
        "id": "feB3pvL7gLRD"
      },
      "source": [
        "## Autoencoder Optimizer"
      ]
    },
    {
      "cell_type": "code",
      "metadata": {
        "ExecuteTime": {
          "end_time": "2020-06-22T14:16:53.447696Z",
          "start_time": "2020-06-22T14:16:53.444030Z"
        },
        "id": "UWrHAXiygLRE"
      },
      "source": [
        "autoencoder_optimizer = Adam()"
      ],
      "execution_count": null,
      "outputs": []
    },
    {
      "cell_type": "markdown",
      "metadata": {
        "id": "o7LOT84XgLRE"
      },
      "source": [
        "## Autoencoder Training Step"
      ]
    },
    {
      "cell_type": "code",
      "metadata": {
        "ExecuteTime": {
          "end_time": "2020-06-22T14:16:53.459708Z",
          "start_time": "2020-06-22T14:16:53.450198Z"
        },
        "id": "JOC6tN1egLRE"
      },
      "source": [
        "@tf.function\n",
        "def train_autoencoder_init(x):\n",
        "    with tf.GradientTape() as tape:\n",
        "        x_tilde = autoencoder(x)\n",
        "        embedding_loss_t0 = mse(x, x_tilde)\n",
        "        e_loss_0 = 10 * tf.sqrt(embedding_loss_t0)\n",
        "\n",
        "    var_list = embedder.trainable_variables + recovery.trainable_variables\n",
        "    gradients = tape.gradient(e_loss_0, var_list)\n",
        "    autoencoder_optimizer.apply_gradients(zip(gradients, var_list))\n",
        "    return tf.sqrt(embedding_loss_t0)"
      ],
      "execution_count": null,
      "outputs": []
    },
    {
      "cell_type": "markdown",
      "metadata": {
        "id": "PotKc3d9gLRF"
      },
      "source": [
        "## Autoencoder Training Loop"
      ]
    },
    {
      "cell_type": "markdown",
      "metadata": {
        "id": "aqaAGchjgLRF"
      },
      "source": [
        "The reconstruction loss simply compares the autoencoder outputs with its inputs. We train for 10,000 steps in a little over one minute using this training loop that records the step loss for monitoring with TensorBoard:"
      ]
    },
    {
      "cell_type": "code",
      "metadata": {
        "ExecuteTime": {
          "end_time": "2020-06-22T14:18:21.132545Z",
          "start_time": "2020-06-22T14:16:53.461372Z"
        },
        "colab": {
          "base_uri": "https://localhost:8080/",
          "height": 554
        },
        "id": "Ax1CtKeEgLRF",
        "outputId": "0e9d024c-dda2-40d8-83b5-4fe7b63ec46e"
      },
      "source": [
        "for step in tqdm(range(train_steps)):\n",
        "    X_ = next(real_series_iter)\n",
        "    step_e_loss_t0 = train_autoencoder_init(X_)\n",
        "    with writer.as_default():\n",
        "        tf.summary.scalar('Loss Autoencoder Init', step_e_loss_t0, step=step)"
      ],
      "execution_count": null,
      "outputs": [
        {
          "output_type": "stream",
          "name": "stderr",
          "text": [
            "  0%|          | 0/10000 [00:00<?, ?it/s]\n"
          ]
        },
        {
          "output_type": "error",
          "ename": "ValueError",
          "evalue": "ignored",
          "traceback": [
            "\u001b[0;31m---------------------------------------------------------------------------\u001b[0m",
            "\u001b[0;31mValueError\u001b[0m                                Traceback (most recent call last)",
            "\u001b[0;32m<ipython-input-61-b39c35f4d7fc>\u001b[0m in \u001b[0;36m<module>\u001b[0;34m()\u001b[0m\n\u001b[1;32m      1\u001b[0m \u001b[0;32mfor\u001b[0m \u001b[0mstep\u001b[0m \u001b[0;32min\u001b[0m \u001b[0mtqdm\u001b[0m\u001b[0;34m(\u001b[0m\u001b[0mrange\u001b[0m\u001b[0;34m(\u001b[0m\u001b[0mtrain_steps\u001b[0m\u001b[0;34m)\u001b[0m\u001b[0;34m)\u001b[0m\u001b[0;34m:\u001b[0m\u001b[0;34m\u001b[0m\u001b[0;34m\u001b[0m\u001b[0m\n\u001b[1;32m      2\u001b[0m     \u001b[0mX_\u001b[0m \u001b[0;34m=\u001b[0m \u001b[0mnext\u001b[0m\u001b[0;34m(\u001b[0m\u001b[0mreal_series_iter\u001b[0m\u001b[0;34m)\u001b[0m\u001b[0;34m\u001b[0m\u001b[0;34m\u001b[0m\u001b[0m\n\u001b[0;32m----> 3\u001b[0;31m     \u001b[0mstep_e_loss_t0\u001b[0m \u001b[0;34m=\u001b[0m \u001b[0mtrain_autoencoder_init\u001b[0m\u001b[0;34m(\u001b[0m\u001b[0mX_\u001b[0m\u001b[0;34m)\u001b[0m\u001b[0;34m\u001b[0m\u001b[0;34m\u001b[0m\u001b[0m\n\u001b[0m\u001b[1;32m      4\u001b[0m     \u001b[0;32mwith\u001b[0m \u001b[0mwriter\u001b[0m\u001b[0;34m.\u001b[0m\u001b[0mas_default\u001b[0m\u001b[0;34m(\u001b[0m\u001b[0;34m)\u001b[0m\u001b[0;34m:\u001b[0m\u001b[0;34m\u001b[0m\u001b[0;34m\u001b[0m\u001b[0m\n\u001b[1;32m      5\u001b[0m         \u001b[0mtf\u001b[0m\u001b[0;34m.\u001b[0m\u001b[0msummary\u001b[0m\u001b[0;34m.\u001b[0m\u001b[0mscalar\u001b[0m\u001b[0;34m(\u001b[0m\u001b[0;34m'Loss Autoencoder Init'\u001b[0m\u001b[0;34m,\u001b[0m \u001b[0mstep_e_loss_t0\u001b[0m\u001b[0;34m,\u001b[0m \u001b[0mstep\u001b[0m\u001b[0;34m=\u001b[0m\u001b[0mstep\u001b[0m\u001b[0;34m)\u001b[0m\u001b[0;34m\u001b[0m\u001b[0;34m\u001b[0m\u001b[0m\n",
            "\u001b[0;32m/usr/local/lib/python3.7/dist-packages/tensorflow/python/util/traceback_utils.py\u001b[0m in \u001b[0;36merror_handler\u001b[0;34m(*args, **kwargs)\u001b[0m\n\u001b[1;32m    151\u001b[0m     \u001b[0;32mexcept\u001b[0m \u001b[0mException\u001b[0m \u001b[0;32mas\u001b[0m \u001b[0me\u001b[0m\u001b[0;34m:\u001b[0m\u001b[0;34m\u001b[0m\u001b[0;34m\u001b[0m\u001b[0m\n\u001b[1;32m    152\u001b[0m       \u001b[0mfiltered_tb\u001b[0m \u001b[0;34m=\u001b[0m \u001b[0m_process_traceback_frames\u001b[0m\u001b[0;34m(\u001b[0m\u001b[0me\u001b[0m\u001b[0;34m.\u001b[0m\u001b[0m__traceback__\u001b[0m\u001b[0;34m)\u001b[0m\u001b[0;34m\u001b[0m\u001b[0;34m\u001b[0m\u001b[0m\n\u001b[0;32m--> 153\u001b[0;31m       \u001b[0;32mraise\u001b[0m \u001b[0me\u001b[0m\u001b[0;34m.\u001b[0m\u001b[0mwith_traceback\u001b[0m\u001b[0;34m(\u001b[0m\u001b[0mfiltered_tb\u001b[0m\u001b[0;34m)\u001b[0m \u001b[0;32mfrom\u001b[0m \u001b[0;32mNone\u001b[0m\u001b[0;34m\u001b[0m\u001b[0;34m\u001b[0m\u001b[0m\n\u001b[0m\u001b[1;32m    154\u001b[0m     \u001b[0;32mfinally\u001b[0m\u001b[0;34m:\u001b[0m\u001b[0;34m\u001b[0m\u001b[0;34m\u001b[0m\u001b[0m\n\u001b[1;32m    155\u001b[0m       \u001b[0;32mdel\u001b[0m \u001b[0mfiltered_tb\u001b[0m\u001b[0;34m\u001b[0m\u001b[0;34m\u001b[0m\u001b[0m\n",
            "\u001b[0;32m/usr/local/lib/python3.7/dist-packages/tensorflow/python/framework/func_graph.py\u001b[0m in \u001b[0;36mautograph_handler\u001b[0;34m(*args, **kwargs)\u001b[0m\n\u001b[1;32m   1127\u001b[0m           \u001b[0;32mexcept\u001b[0m \u001b[0mException\u001b[0m \u001b[0;32mas\u001b[0m \u001b[0me\u001b[0m\u001b[0;34m:\u001b[0m  \u001b[0;31m# pylint:disable=broad-except\u001b[0m\u001b[0;34m\u001b[0m\u001b[0;34m\u001b[0m\u001b[0m\n\u001b[1;32m   1128\u001b[0m             \u001b[0;32mif\u001b[0m \u001b[0mhasattr\u001b[0m\u001b[0;34m(\u001b[0m\u001b[0me\u001b[0m\u001b[0;34m,\u001b[0m \u001b[0;34m\"ag_error_metadata\"\u001b[0m\u001b[0;34m)\u001b[0m\u001b[0;34m:\u001b[0m\u001b[0;34m\u001b[0m\u001b[0;34m\u001b[0m\u001b[0m\n\u001b[0;32m-> 1129\u001b[0;31m               \u001b[0;32mraise\u001b[0m \u001b[0me\u001b[0m\u001b[0;34m.\u001b[0m\u001b[0mag_error_metadata\u001b[0m\u001b[0;34m.\u001b[0m\u001b[0mto_exception\u001b[0m\u001b[0;34m(\u001b[0m\u001b[0me\u001b[0m\u001b[0;34m)\u001b[0m\u001b[0;34m\u001b[0m\u001b[0;34m\u001b[0m\u001b[0m\n\u001b[0m\u001b[1;32m   1130\u001b[0m             \u001b[0;32melse\u001b[0m\u001b[0;34m:\u001b[0m\u001b[0;34m\u001b[0m\u001b[0;34m\u001b[0m\u001b[0m\n\u001b[1;32m   1131\u001b[0m               \u001b[0;32mraise\u001b[0m\u001b[0;34m\u001b[0m\u001b[0;34m\u001b[0m\u001b[0m\n",
            "\u001b[0;31mValueError\u001b[0m: in user code:\n\n    File \"<ipython-input-44-4931b3f5d381>\", line 4, in train_autoencoder_init  *\n        x_tilde = autoencoder(x)\n    File \"/usr/local/lib/python3.7/dist-packages/keras/utils/traceback_utils.py\", line 67, in error_handler  **\n        raise e.with_traceback(filtered_tb) from None\n    File \"/usr/local/lib/python3.7/dist-packages/keras/engine/input_spec.py\", line 263, in assert_input_compatibility\n        raise ValueError(f'Input {input_index} of layer \"{layer_name}\" is '\n\n    ValueError: Input 0 of layer \"Autoencoder\" is incompatible with the layer: expected shape=(None, 24, 5), found shape=(128, 24, 4)\n"
          ]
        }
      ]
    },
    {
      "cell_type": "markdown",
      "metadata": {
        "id": "rzGaZcpsgLRG"
      },
      "source": [
        "## Persist model"
      ]
    },
    {
      "cell_type": "code",
      "metadata": {
        "ExecuteTime": {
          "end_time": "2020-06-22T14:18:21.135850Z",
          "start_time": "2020-06-22T14:18:21.133941Z"
        },
        "id": "E651s0dzgLRG"
      },
      "source": [
        "# autoencoder.save(log_dir / 'autoencoder')"
      ],
      "execution_count": null,
      "outputs": []
    },
    {
      "cell_type": "markdown",
      "metadata": {
        "id": "g5W5YGDigLRG"
      },
      "source": [
        "# Phase 2: Supervised training"
      ]
    },
    {
      "cell_type": "markdown",
      "metadata": {
        "id": "qmWfpH_BgLRG"
      },
      "source": [
        "We already created the supervisor model so we just need to instantiate the optimizer and define the train step as follows:"
      ]
    },
    {
      "cell_type": "markdown",
      "metadata": {
        "id": "OZoLAQDkgLRH"
      },
      "source": [
        "## Define Optimizer"
      ]
    },
    {
      "cell_type": "code",
      "metadata": {
        "ExecuteTime": {
          "end_time": "2020-06-22T14:18:21.150618Z",
          "start_time": "2020-06-22T14:18:21.137038Z"
        },
        "id": "EiOO8ERygLRH"
      },
      "source": [
        "supervisor_optimizer = Adam()"
      ],
      "execution_count": null,
      "outputs": []
    },
    {
      "cell_type": "markdown",
      "metadata": {
        "id": "rBd9P6NegLRH"
      },
      "source": [
        "## Train Step"
      ]
    },
    {
      "cell_type": "code",
      "metadata": {
        "ExecuteTime": {
          "end_time": "2020-06-22T14:18:21.159749Z",
          "start_time": "2020-06-22T14:18:21.152011Z"
        },
        "id": "PFQFZQHPgLRH"
      },
      "source": [
        "@tf.function\n",
        "def train_supervisor(x):\n",
        "    with tf.GradientTape() as tape:\n",
        "        h = embedder(x)\n",
        "        h_hat_supervised = supervisor(h)\n",
        "        g_loss_s = mse(h[:, 1:, :], h_hat_supervised[:, 1:, :])\n",
        "\n",
        "    var_list = supervisor.trainable_variables\n",
        "    gradients = tape.gradient(g_loss_s, var_list)\n",
        "    supervisor_optimizer.apply_gradients(zip(gradients, var_list))\n",
        "    return g_loss_s"
      ],
      "execution_count": null,
      "outputs": []
    },
    {
      "cell_type": "markdown",
      "metadata": {
        "id": "I1M6yJFBgLRI"
      },
      "source": [
        "In this case, the loss compares the output of the supervisor with the next timestep for the embedded sequence so that it learns the temporal dynamics of the historical price sequences; the training loop works similarly to the autoencoder example."
      ]
    },
    {
      "cell_type": "markdown",
      "metadata": {
        "id": "uMJXcWd2gLRI"
      },
      "source": [
        "## Training Loop"
      ]
    },
    {
      "cell_type": "code",
      "metadata": {
        "ExecuteTime": {
          "end_time": "2020-06-22T14:21:43.864154Z",
          "start_time": "2020-06-22T14:18:21.161919Z"
        },
        "id": "LL_68lTdgLRI"
      },
      "source": [
        "for step in tqdm(range(train_steps)):\n",
        "    X_ = next(real_series_iter)\n",
        "    step_g_loss_s = train_supervisor(X_)\n",
        "    with writer.as_default():\n",
        "        tf.summary.scalar('Loss Generator Supervised Init', step_g_loss_s, step=step)"
      ],
      "execution_count": null,
      "outputs": []
    },
    {
      "cell_type": "markdown",
      "metadata": {
        "id": "Th8J4W3egLRJ"
      },
      "source": [
        "## Persist Model"
      ]
    },
    {
      "cell_type": "code",
      "metadata": {
        "ExecuteTime": {
          "end_time": "2020-06-22T14:21:43.866414Z",
          "start_time": "2020-06-22T14:21:43.865006Z"
        },
        "id": "7YdzUtO1gLRJ"
      },
      "source": [
        "# supervisor.save(log_dir / 'supervisor')"
      ],
      "execution_count": null,
      "outputs": []
    },
    {
      "cell_type": "markdown",
      "metadata": {
        "id": "loBM_rZlgLRK"
      },
      "source": [
        "# Joint Training"
      ]
    },
    {
      "cell_type": "markdown",
      "metadata": {
        "id": "L5ZlYsSRgLRK"
      },
      "source": [
        "The joint training involves all four network components as well as the supervisor. It uses multiple loss functions and combinations of the base components to achieve the simultaneous learning of latent space embeddings, transition dynamics, and synthetic data generation. "
      ]
    },
    {
      "cell_type": "markdown",
      "metadata": {
        "id": "M_qGWdX5gLRL"
      },
      "source": [
        "## Generator"
      ]
    },
    {
      "cell_type": "markdown",
      "metadata": {
        "id": "lfX1uIzNgLRL"
      },
      "source": [
        "### Adversarial Architecture - Supervised"
      ]
    },
    {
      "cell_type": "code",
      "metadata": {
        "ExecuteTime": {
          "end_time": "2020-06-22T14:21:44.759375Z",
          "start_time": "2020-06-22T14:21:43.867138Z"
        },
        "id": "q78r73isgLRL"
      },
      "source": [
        "E_hat = generator(Z)\n",
        "H_hat = supervisor(E_hat)\n",
        "Y_fake = discriminator(H_hat)\n",
        "\n",
        "adversarial_supervised = Model(inputs=Z,\n",
        "                               outputs=Y_fake,\n",
        "                               name='AdversarialNetSupervised')"
      ],
      "execution_count": null,
      "outputs": []
    },
    {
      "cell_type": "code",
      "metadata": {
        "ExecuteTime": {
          "end_time": "2020-06-22T14:21:44.765189Z",
          "start_time": "2020-06-22T14:21:44.760237Z"
        },
        "id": "qztIHy9VgLRM"
      },
      "source": [
        "adversarial_supervised.summary()"
      ],
      "execution_count": null,
      "outputs": []
    },
    {
      "cell_type": "code",
      "metadata": {
        "ExecuteTime": {
          "end_time": "2020-06-22T14:21:44.891013Z",
          "start_time": "2020-06-22T14:21:44.766236Z"
        },
        "id": "GFE_eOvKgLRN"
      },
      "source": [
        "plot_model(adversarial_supervised, show_shapes=True)"
      ],
      "execution_count": null,
      "outputs": []
    },
    {
      "cell_type": "markdown",
      "metadata": {
        "id": "JkZwezt1gLRO"
      },
      "source": [
        "### Adversarial Architecture in Latent Space"
      ]
    },
    {
      "cell_type": "code",
      "metadata": {
        "ExecuteTime": {
          "end_time": "2020-06-22T14:21:45.207968Z",
          "start_time": "2020-06-22T14:21:44.892152Z"
        },
        "id": "n0E2dPmLgLRO"
      },
      "source": [
        "Y_fake_e = discriminator(E_hat)\n",
        "\n",
        "adversarial_emb = Model(inputs=Z,\n",
        "                    outputs=Y_fake_e,\n",
        "                    name='AdversarialNet')"
      ],
      "execution_count": null,
      "outputs": []
    },
    {
      "cell_type": "code",
      "metadata": {
        "ExecuteTime": {
          "end_time": "2020-06-22T14:21:45.213528Z",
          "start_time": "2020-06-22T14:21:45.208923Z"
        },
        "id": "5ECmtcpYgLRQ"
      },
      "source": [
        "adversarial_emb.summary()"
      ],
      "execution_count": null,
      "outputs": []
    },
    {
      "cell_type": "code",
      "metadata": {
        "ExecuteTime": {
          "end_time": "2020-06-22T14:21:45.339928Z",
          "start_time": "2020-06-22T14:21:45.214560Z"
        },
        "id": "CbI99zpxgLRR"
      },
      "source": [
        "plot_model(adversarial_emb, show_shapes=True)"
      ],
      "execution_count": null,
      "outputs": []
    },
    {
      "cell_type": "markdown",
      "metadata": {
        "id": "40Itxtm4gLRS"
      },
      "source": [
        "### Mean & Variance Loss"
      ]
    },
    {
      "cell_type": "markdown",
      "metadata": {
        "id": "ZQScMekGgLRT"
      },
      "source": [
        "To ensure that the generator faithfully reproduces the time series, TimeGAN includes a moment loss that penalizes when mean and variance of the synthetic data deviate from the real version:"
      ]
    },
    {
      "cell_type": "code",
      "metadata": {
        "ExecuteTime": {
          "end_time": "2020-06-22T14:21:45.675612Z",
          "start_time": "2020-06-22T14:21:45.341343Z"
        },
        "id": "SWCxkLIUgLRT"
      },
      "source": [
        "X_hat = recovery(H_hat)\n",
        "synthetic_data = Model(inputs=Z,\n",
        "                       outputs=X_hat,\n",
        "                       name='SyntheticData')"
      ],
      "execution_count": null,
      "outputs": []
    },
    {
      "cell_type": "markdown",
      "metadata": {
        "id": "K2xtMFJigLRU"
      },
      "source": [
        "The end-to-end model that produces synthetic data involves the generator, supervisor, and recovery component. It is defined as follows and has close to 30,000 trainable paramters:"
      ]
    },
    {
      "cell_type": "code",
      "metadata": {
        "ExecuteTime": {
          "end_time": "2020-06-22T14:21:45.682769Z",
          "start_time": "2020-06-22T14:21:45.676682Z"
        },
        "id": "_Kl_zbiZgLRU"
      },
      "source": [
        "synthetic_data.summary()"
      ],
      "execution_count": null,
      "outputs": []
    },
    {
      "cell_type": "code",
      "metadata": {
        "ExecuteTime": {
          "end_time": "2020-06-22T14:21:45.808849Z",
          "start_time": "2020-06-22T14:21:45.683931Z"
        },
        "id": "Ab1awHsJgLRV"
      },
      "source": [
        "plot_model(synthetic_data, show_shapes=True)"
      ],
      "execution_count": null,
      "outputs": []
    },
    {
      "cell_type": "code",
      "metadata": {
        "ExecuteTime": {
          "end_time": "2020-06-22T14:21:45.813915Z",
          "start_time": "2020-06-22T14:21:45.810248Z"
        },
        "id": "O4BpofhvgLRV"
      },
      "source": [
        "def get_generator_moment_loss(y_true, y_pred):\n",
        "    y_true_mean, y_true_var = tf.nn.moments(x=y_true, axes=[0])\n",
        "    y_pred_mean, y_pred_var = tf.nn.moments(x=y_pred, axes=[0])\n",
        "    g_loss_mean = tf.reduce_mean(tf.abs(y_true_mean - y_pred_mean))\n",
        "    g_loss_var = tf.reduce_mean(tf.abs(tf.sqrt(y_true_var + 1e-6) - tf.sqrt(y_pred_var + 1e-6)))\n",
        "    return g_loss_mean + g_loss_var"
      ],
      "execution_count": null,
      "outputs": []
    },
    {
      "cell_type": "markdown",
      "metadata": {
        "id": "ojOZK5s5gLRW"
      },
      "source": [
        "## Discriminator"
      ]
    },
    {
      "cell_type": "markdown",
      "metadata": {
        "id": "xQvBB27-gLRW"
      },
      "source": [
        "### Architecture: Real Data"
      ]
    },
    {
      "cell_type": "code",
      "metadata": {
        "ExecuteTime": {
          "end_time": "2020-06-22T14:21:46.138938Z",
          "start_time": "2020-06-22T14:21:45.815300Z"
        },
        "id": "Sk6zQQD4gLRW"
      },
      "source": [
        "Y_real = discriminator(H)\n",
        "discriminator_model = Model(inputs=X,\n",
        "                            outputs=Y_real,\n",
        "                            name='DiscriminatorReal')"
      ],
      "execution_count": null,
      "outputs": []
    },
    {
      "cell_type": "code",
      "metadata": {
        "ExecuteTime": {
          "end_time": "2020-06-22T14:21:46.145727Z",
          "start_time": "2020-06-22T14:21:46.141825Z"
        },
        "id": "r0bi9MrGgLRX"
      },
      "source": [
        "discriminator_model.summary()"
      ],
      "execution_count": null,
      "outputs": []
    },
    {
      "cell_type": "code",
      "metadata": {
        "ExecuteTime": {
          "end_time": "2020-06-22T14:21:46.271876Z",
          "start_time": "2020-06-22T14:21:46.146811Z"
        },
        "id": "6hcsVvvzgLRX"
      },
      "source": [
        "plot_model(discriminator_model, show_shapes=True)"
      ],
      "execution_count": null,
      "outputs": []
    },
    {
      "cell_type": "markdown",
      "metadata": {
        "id": "MxNoxGhugLRY"
      },
      "source": [
        "## Optimizers"
      ]
    },
    {
      "cell_type": "markdown",
      "metadata": {
        "id": "FkSqC0rugLRY"
      },
      "source": [
        "The joint training involves three optimizers for the autoencoder, the generator and the discriminator:"
      ]
    },
    {
      "cell_type": "code",
      "metadata": {
        "ExecuteTime": {
          "end_time": "2020-06-22T14:21:46.275281Z",
          "start_time": "2020-06-22T14:21:46.273098Z"
        },
        "id": "sLbalKf0gLRZ"
      },
      "source": [
        "generator_optimizer = Adam()\n",
        "discriminator_optimizer = Adam()\n",
        "embedding_optimizer = Adam()"
      ],
      "execution_count": null,
      "outputs": []
    },
    {
      "cell_type": "markdown",
      "metadata": {
        "id": "D1YWB5PCgLRZ"
      },
      "source": [
        "## Generator Train Step"
      ]
    },
    {
      "cell_type": "markdown",
      "metadata": {
        "id": "uzdx40FogLRa"
      },
      "source": [
        "The train step for the generator illustrates the use of four loss functions and corresponding combinations of network components to achieve the desired learning outlined at the beginning of this section:"
      ]
    },
    {
      "cell_type": "code",
      "metadata": {
        "ExecuteTime": {
          "end_time": "2020-06-22T14:21:46.284057Z",
          "start_time": "2020-06-22T14:21:46.276232Z"
        },
        "id": "QkeQc3JVgLRb"
      },
      "source": [
        "@tf.function\n",
        "def train_generator(x, z):\n",
        "    with tf.GradientTape() as tape:\n",
        "        y_fake = adversarial_supervised(z)\n",
        "        generator_loss_unsupervised = bce(y_true=tf.ones_like(y_fake),\n",
        "                                          y_pred=y_fake)\n",
        "\n",
        "        y_fake_e = adversarial_emb(z)\n",
        "        generator_loss_unsupervised_e = bce(y_true=tf.ones_like(y_fake_e),\n",
        "                                            y_pred=y_fake_e)\n",
        "        h = embedder(x)\n",
        "        h_hat_supervised = supervisor(h)\n",
        "        generator_loss_supervised = mse(h[:, 1:, :], h_hat_supervised[:, 1:, :])\n",
        "\n",
        "        x_hat = synthetic_data(z)\n",
        "        generator_moment_loss = get_generator_moment_loss(x, x_hat)\n",
        "\n",
        "        generator_loss = (generator_loss_unsupervised +\n",
        "                          generator_loss_unsupervised_e +\n",
        "                          100 * tf.sqrt(generator_loss_supervised) +\n",
        "                          100 * generator_moment_loss)\n",
        "\n",
        "    var_list = generator.trainable_variables + supervisor.trainable_variables\n",
        "    gradients = tape.gradient(generator_loss, var_list)\n",
        "    generator_optimizer.apply_gradients(zip(gradients, var_list))\n",
        "    return generator_loss_unsupervised, generator_loss_supervised, generator_moment_loss"
      ],
      "execution_count": null,
      "outputs": []
    },
    {
      "cell_type": "markdown",
      "metadata": {
        "id": "4BcLbBkFgLRc"
      },
      "source": [
        "## Embedding Train Step"
      ]
    },
    {
      "cell_type": "code",
      "metadata": {
        "ExecuteTime": {
          "end_time": "2020-06-22T14:21:46.295232Z",
          "start_time": "2020-06-22T14:21:46.284920Z"
        },
        "id": "4DW4dGSBgLRc"
      },
      "source": [
        "@tf.function\n",
        "def train_embedder(x):\n",
        "    with tf.GradientTape() as tape:\n",
        "        h = embedder(x)\n",
        "        h_hat_supervised = supervisor(h)\n",
        "        generator_loss_supervised = mse(h[:, 1:, :], h_hat_supervised[:, 1:, :])\n",
        "\n",
        "        x_tilde = autoencoder(x)\n",
        "        embedding_loss_t0 = mse(x, x_tilde)\n",
        "        e_loss = 10 * tf.sqrt(embedding_loss_t0) + 0.1 * generator_loss_supervised\n",
        "\n",
        "    var_list = embedder.trainable_variables + recovery.trainable_variables\n",
        "    gradients = tape.gradient(e_loss, var_list)\n",
        "    embedding_optimizer.apply_gradients(zip(gradients, var_list))\n",
        "    return tf.sqrt(embedding_loss_t0)"
      ],
      "execution_count": null,
      "outputs": []
    },
    {
      "cell_type": "markdown",
      "metadata": {
        "id": "vNDtKaUFgLRd"
      },
      "source": [
        "## Discriminator Train Step"
      ]
    },
    {
      "cell_type": "code",
      "metadata": {
        "ExecuteTime": {
          "end_time": "2020-06-22T14:21:46.303397Z",
          "start_time": "2020-06-22T14:21:46.296151Z"
        },
        "id": "fKQw7IiZgLRd"
      },
      "source": [
        "@tf.function\n",
        "def get_discriminator_loss(x, z):\n",
        "    y_real = discriminator_model(x)\n",
        "    discriminator_loss_real = bce(y_true=tf.ones_like(y_real),\n",
        "                                  y_pred=y_real)\n",
        "\n",
        "    y_fake = adversarial_supervised(z)\n",
        "    discriminator_loss_fake = bce(y_true=tf.zeros_like(y_fake),\n",
        "                                  y_pred=y_fake)\n",
        "\n",
        "    y_fake_e = adversarial_emb(z)\n",
        "    discriminator_loss_fake_e = bce(y_true=tf.zeros_like(y_fake_e),\n",
        "                                    y_pred=y_fake_e)\n",
        "    return (discriminator_loss_real +\n",
        "            discriminator_loss_fake +\n",
        "            gamma * discriminator_loss_fake_e)"
      ],
      "execution_count": null,
      "outputs": []
    },
    {
      "cell_type": "code",
      "metadata": {
        "ExecuteTime": {
          "end_time": "2020-06-22T14:21:46.314283Z",
          "start_time": "2020-06-22T14:21:46.304404Z"
        },
        "id": "z74s6PNIgLRd"
      },
      "source": [
        "@tf.function\n",
        "def train_discriminator(x, z):\n",
        "    with tf.GradientTape() as tape:\n",
        "        discriminator_loss = get_discriminator_loss(x, z)\n",
        "\n",
        "    var_list = discriminator.trainable_variables\n",
        "    gradients = tape.gradient(discriminator_loss, var_list)\n",
        "    discriminator_optimizer.apply_gradients(zip(gradients, var_list))\n",
        "    return discriminator_loss"
      ],
      "execution_count": null,
      "outputs": []
    },
    {
      "cell_type": "markdown",
      "metadata": {
        "id": "pUPTzXxOgLRe"
      },
      "source": [
        "## Training Loop"
      ]
    },
    {
      "cell_type": "markdown",
      "metadata": {
        "id": "njeAnO-WgLRe"
      },
      "source": [
        "Finally, the joint training loop pulls the various training steps together and builds on the learning from phase 1 and 2 to train the TimeGAN components on both real and random data. We run the loop for 10,000 iterations in under 50 minutes:"
      ]
    },
    {
      "cell_type": "code",
      "metadata": {
        "ExecuteTime": {
          "end_time": "2020-06-22T15:11:24.409536Z",
          "start_time": "2020-06-22T14:21:46.315280Z"
        },
        "id": "2XymTgVvgLRf"
      },
      "source": [
        "step_g_loss_u = step_g_loss_s = step_g_loss_v = step_e_loss_t0 = step_d_loss = 0\n",
        "for step in range(train_steps):\n",
        "    # Train generator (twice as often as discriminator)\n",
        "    for kk in range(2):\n",
        "        X_ = next(real_series_iter)\n",
        "        Z_ = next(random_series)\n",
        "\n",
        "        # Train generator\n",
        "        step_g_loss_u, step_g_loss_s, step_g_loss_v = train_generator(X_, Z_)\n",
        "        # Train embedder\n",
        "        step_e_loss_t0 = train_embedder(X_)\n",
        "\n",
        "    X_ = next(real_series_iter)\n",
        "    Z_ = next(random_series)\n",
        "    step_d_loss = get_discriminator_loss(X_, Z_)\n",
        "    if step_d_loss > 0.15:\n",
        "        step_d_loss = train_discriminator(X_, Z_)\n",
        "\n",
        "    if step % 1000 == 0:\n",
        "        print(f'{step:6,.0f} | d_loss: {step_d_loss:6.4f} | g_loss_u: {step_g_loss_u:6.4f} | '\n",
        "              f'g_loss_s: {step_g_loss_s:6.4f} | g_loss_v: {step_g_loss_v:6.4f} | e_loss_t0: {step_e_loss_t0:6.4f}')\n",
        "\n",
        "    with writer.as_default():\n",
        "        tf.summary.scalar('G Loss S', step_g_loss_s, step=step)\n",
        "        tf.summary.scalar('G Loss U', step_g_loss_u, step=step)\n",
        "        tf.summary.scalar('G Loss V', step_g_loss_v, step=step)\n",
        "        tf.summary.scalar('E Loss T0', step_e_loss_t0, step=step)\n",
        "        tf.summary.scalar('D Loss', step_d_loss, step=step)"
      ],
      "execution_count": null,
      "outputs": []
    },
    {
      "cell_type": "markdown",
      "metadata": {
        "id": "QPIwZv-egLRf"
      },
      "source": [
        "## Persist Synthetic Data Generator"
      ]
    },
    {
      "cell_type": "code",
      "metadata": {
        "ExecuteTime": {
          "end_time": "2020-06-22T15:11:40.412907Z",
          "start_time": "2020-06-22T15:11:24.410409Z"
        },
        "id": "-Z3R_ShZgLRh"
      },
      "source": [
        "synthetic_data.save(log_dir / 'synthetic_data')"
      ],
      "execution_count": null,
      "outputs": []
    },
    {
      "cell_type": "markdown",
      "metadata": {
        "id": "WhCNDmvkgLRi"
      },
      "source": [
        "# Generate Synthetic Data"
      ]
    },
    {
      "cell_type": "markdown",
      "metadata": {
        "id": "BzGMvNQDgLRj"
      },
      "source": [
        "To evaluate the TimeGAN results, we generate synthetic by drawing random inputs and feeding them to the `synthetic_data` network just described. \n",
        "\n",
        "More specifically, we’ll create roughly as many artificial series with 24 observations on the six tickers as there are overlapping windows in the real dataset:"
      ]
    },
    {
      "cell_type": "code",
      "metadata": {
        "ExecuteTime": {
          "end_time": "2020-06-22T15:11:42.825347Z",
          "start_time": "2020-06-22T15:11:40.433334Z"
        },
        "id": "eALj9CFOgLRj"
      },
      "source": [
        "generated_data = []\n",
        "for i in range(int(n_windows / batch_size)):\n",
        "    Z_ = next(random_series)\n",
        "    d = synthetic_data(Z_)\n",
        "    generated_data.append(d)"
      ],
      "execution_count": null,
      "outputs": []
    },
    {
      "cell_type": "code",
      "metadata": {
        "ExecuteTime": {
          "end_time": "2020-06-22T15:11:42.830084Z",
          "start_time": "2020-06-22T15:11:42.826463Z"
        },
        "id": "8YagwN56gLRj"
      },
      "source": [
        "len(generated_data)"
      ],
      "execution_count": null,
      "outputs": []
    },
    {
      "cell_type": "markdown",
      "metadata": {
        "id": "INbXMCURgLRk"
      },
      "source": [
        "The result is 35 batches containing 128 samples with dimensions 24⨉6 each that we stack like so:"
      ]
    },
    {
      "cell_type": "code",
      "metadata": {
        "ExecuteTime": {
          "end_time": "2020-06-22T15:11:42.852034Z",
          "start_time": "2020-06-22T15:11:42.831084Z"
        },
        "id": "qW8knfcjgLRk"
      },
      "source": [
        "generated_data = np.array(np.vstack(generated_data))\n",
        "generated_data.shape"
      ],
      "execution_count": null,
      "outputs": []
    },
    {
      "cell_type": "code",
      "metadata": {
        "ExecuteTime": {
          "end_time": "2020-06-22T15:11:42.857797Z",
          "start_time": "2020-06-22T15:11:42.853108Z"
        },
        "id": "9bIKKgJ3gLRk"
      },
      "source": [
        "np.save(log_dir / 'generated_data.npy', generated_data)"
      ],
      "execution_count": null,
      "outputs": []
    },
    {
      "cell_type": "markdown",
      "metadata": {
        "id": "-q2Z04kygLRl"
      },
      "source": [
        "## Rescale"
      ]
    },
    {
      "cell_type": "markdown",
      "metadata": {
        "id": "QhX2umAngLRl"
      },
      "source": [
        "We can use the trained MinMaxScaler to revert the synthetic to the scale of the input series:"
      ]
    },
    {
      "cell_type": "code",
      "metadata": {
        "ExecuteTime": {
          "end_time": "2020-06-22T15:11:42.872876Z",
          "start_time": "2020-06-22T15:11:42.858811Z"
        },
        "id": "t-cSqiVMgLRl"
      },
      "source": [
        "generated_data = (scaler.inverse_transform(generated_data\n",
        "                                           .reshape(-1, n_seq))\n",
        "                  .reshape(-1, seq_len, n_seq))\n",
        "generated_data.shape"
      ],
      "execution_count": null,
      "outputs": []
    },
    {
      "cell_type": "markdown",
      "metadata": {
        "id": "QBnYxqwYgLRl"
      },
      "source": [
        "## Persist Data"
      ]
    },
    {
      "cell_type": "code",
      "metadata": {
        "ExecuteTime": {
          "end_time": "2020-06-22T15:11:42.888314Z",
          "start_time": "2020-06-22T15:11:42.873942Z"
        },
        "id": "w4qfNBkJgLRm"
      },
      "source": [
        "with pd.HDFStore(hdf_store) as store:\n",
        "    store.put('data/synthetic', pd.DataFrame(generated_data.reshape(-1, n_seq),\n",
        "                                             columns=tickers))"
      ],
      "execution_count": null,
      "outputs": []
    },
    {
      "cell_type": "markdown",
      "metadata": {
        "id": "oUNJ-B3hgLRm"
      },
      "source": [
        "## Plot sample Series"
      ]
    },
    {
      "cell_type": "markdown",
      "metadata": {
        "id": "MVLAAZgxgLRm"
      },
      "source": [
        "The below figure displays samples of the six synthetic series and the corresponding real series. The synthetic data generally reflect a variation of behavior not unlike their real counterparts and, after rescaling, roughly (due to the random input) match their range."
      ]
    },
    {
      "cell_type": "code",
      "metadata": {
        "ExecuteTime": {
          "end_time": "2020-06-22T15:11:45.421814Z",
          "start_time": "2020-06-22T15:11:42.890793Z"
        },
        "id": "Xstj5e4CgLRn"
      },
      "source": [
        "fig, axes = plt.subplots(nrows=3, ncols=2, figsize=(14, 7))\n",
        "axes = axes.flatten()\n",
        "\n",
        "index = list(range(1, 25))\n",
        "synthetic = generated_data[np.random.randint(n_windows)]\n",
        "\n",
        "idx = np.random.randint(len(df) - seq_len)\n",
        "real = df.iloc[idx: idx + seq_len]\n",
        "\n",
        "for j, ticker in enumerate(tickers):\n",
        "    (pd.DataFrame({'Real': real.iloc[:, j].values,\n",
        "                   'Synthetic': synthetic[:, j]})\n",
        "     .plot(ax=axes[j],\n",
        "           title=ticker,\n",
        "           secondary_y='Synthetic', style=['-', '--'],\n",
        "           lw=1))\n",
        "sns.despine()\n",
        "fig.tight_layout()"
      ],
      "execution_count": null,
      "outputs": []
    }
  ]
}